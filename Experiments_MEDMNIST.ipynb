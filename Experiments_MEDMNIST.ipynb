{
 "cells": [
  {
   "cell_type": "code",
   "metadata": {},
   "source": [
    "#================================= Start of importing required packages and libraries =========================================#\n",
    "from __future__ import print_function\n",
    "%matplotlib inline\n",
    "import numpy as np\n",
    "import torch\n",
    "from experiment_federated import *\n",
    "import random\n",
    "#================================== End of importing required packages and libraries ==========================================#"
   ],
   "outputs": [],
   "execution_count": null
  },
  {
   "cell_type": "code",
   "metadata": {},
   "source": [
    "import torch\n",
    "import random\n",
    "import torch.nn as nn\n",
    "import subprocess\n",
    "\n",
    "# ========== 智能 GPU 检测函数 ==========\n",
    "def get_free_gpu(threshold_mb=1024*40):\n",
    "    try:\n",
    "        result = subprocess.check_output(\n",
    "            ['nvidia-smi', '--query-gpu=memory.free', '--format=csv,nounits,noheader'],\n",
    "            encoding='utf-8'\n",
    "        )\n",
    "        memory_free = [int(x) for x in result.strip().split('\\n')]\n",
    "        for idx, mem in enumerate(memory_free):\n",
    "            if mem > threshold_mb:\n",
    "                return idx\n",
    "    except Exception as e:\n",
    "        print(\"无法检测GPU状态，默认使用CPU:\", e)\n",
    "    return None\n",
    "\n",
    "# ========== 设备选择 ==========\n",
    "free_gpu = get_free_gpu()\n",
    "if free_gpu is not None and torch.cuda.is_available():\n",
    "    DEVICE = torch.device(f'cuda:{free_gpu}')\n",
    "    GPU_NAME = torch.cuda.get_device_name(free_gpu)\n",
    "    print(f\"✅ 使用空闲GPU: cuda:{free_gpu} - {GPU_NAME}\")\n",
    "else:\n",
    "    DEVICE = torch.device('cpu')\n",
    "    GPU_NAME = \"CPU\"\n",
    "    print(\"⚠️ 没有可用GPU，改为使用CPU\")\n",
    "\n",
    "# ========== 环境标识 ==========\n",
    "IS_SERVER = \"A100\" in GPU_NAME\n",
    "IS_LOCAL = \"3060\" in GPU_NAME or \"RTX 3060\" in GPU_NAME\n",
    "\n",
    "# ========== 基本超参数配置 ==========\n",
    "DATASET_NAME = \"PATHMNIST\"\n",
    "MODEL_NAME = \"CNNPATH\"\n",
    "DD_TYPE = 'NON_IID'\n",
    "ALPHA = 1\n",
    "NUM_PEERS = 100\n",
    "FRAC_PEERS = 1\n",
    "SEED = 7\n",
    "random.seed(SEED)\n",
    "CRITERION = nn.CrossEntropyLoss()\n",
    "NUM_CLASSES = 9\n",
    "CLASS_PER_PEER = 10\n",
    "SAMPLES_PER_CLASS = 582\n",
    "RATE_UNBALANCE = 1\n",
    "\n",
    "LABELS_DICT = {\n",
    "    'Adipose': 0,\n",
    "    'Background': 1,\n",
    "    'Debris': 2,\n",
    "    'Lymphocytes': 3,\n",
    "    'Mucus': 4,\n",
    "    'Smooth_muscle': 5,\n",
    "    'Normal_colon_mucosa': 6,\n",
    "    'Cancer_stroma': 7,\n",
    "    'Adenocarcinoma_epithelium': 8\n",
    "}\n",
    "SOURCE_CLASS = 0\n",
    "TARGET_CLASS = 7\n",
    "\n",
    "# ========== 环境自适应参数配置 ==========\n",
    "if IS_SERVER:\n",
    "    GLOBAL_ROUNDS = 300           # 增加全局轮数，让模型充分学习\n",
    "    LOCAL_EPOCHS = 5              # 本地训练较充分，降低攻击干扰\n",
    "    LOCAL_BS = 64                 # 中等 batch size，兼顾稳定与速度\n",
    "    LOCAL_LR = 0.005              # 降低学习率，增强收敛稳定性\n",
    "    LOCAL_MOMENTUM = 0.9          # 保持稳定惯性\n",
    "    TEST_BATCH_SIZE = 1000\n",
    "    USE_LR_SCHEDULER = True       # 使用学习率调度器控制收敛后期收缩\n",
    "\n",
    "elif IS_LOCAL:\n",
    "    GLOBAL_ROUNDS = 5\n",
    "    LOCAL_EPOCHS = 1\n",
    "    TEST_BATCH_SIZE = 256\n",
    "    LOCAL_BS = 32\n",
    "else:\n",
    "    GLOBAL_ROUNDS = 50\n",
    "    LOCAL_EPOCHS = 2\n",
    "    TEST_BATCH_SIZE = 512\n",
    "    LOCAL_BS = 32\n",
    "\n",
    "LOCAL_LR = 0.01\n",
    "LOCAL_MOMENTUM = 0.9\n",
    "\n",
    "# ========== 输出当前配置 ==========\n",
    "print(f\"[环境] GPU: {GPU_NAME}\")\n",
    "print(f\"[配置] DEVICE = {DEVICE}, GLOBAL_ROUNDS = {GLOBAL_ROUNDS}, LOCAL_EPOCHS = {LOCAL_EPOCHS}, TEST_BATCH_SIZE = {TEST_BATCH_SIZE}\")\n"
   ],
   "outputs": [],
   "execution_count": null
  },
  {
   "metadata": {},
   "cell_type": "code",
   "source": [
    "RULE = 'lfighter_dbo'\n",
    "ATTACK_TYPE='label_flipping'\n",
    "MALICIOUS_BEHAVIOR_RATE = 1\n",
    "for atr in [0.4]:\n",
    "    run_exp(dataset_name = DATASET_NAME, model_name = MODEL_NAME, dd_type = DD_TYPE, num_peers = NUM_PEERS, \n",
    "            frac_peers = FRAC_PEERS, seed = SEED, test_batch_size = TEST_BATCH_SIZE,\n",
    "                criterion = CRITERION, global_rounds = GLOBAL_ROUNDS, local_epochs = LOCAL_EPOCHS, local_bs = LOCAL_BS, \n",
    "                 local_lr = LOCAL_LR, local_momentum = LOCAL_MOMENTUM, labels_dict = LABELS_DICT, device = DEVICE,\n",
    "                attackers_ratio = atr, attack_type=ATTACK_TYPE, \n",
    "                 malicious_behavior_rate = MALICIOUS_BEHAVIOR_RATE, rule = RULE,\n",
    "                source_class = SOURCE_CLASS, target_class = TARGET_CLASS,\n",
    "               class_per_peer = CLASS_PER_PEER, samples_per_class = SAMPLES_PER_CLASS, \n",
    "               rate_unbalance = RATE_UNBALANCE, alpha = ALPHA, resume = False)"
   ],
   "outputs": [],
   "execution_count": null
  },
  {
   "metadata": {},
   "cell_type": "code",
   "source": [
    "# Baseline|: FedAvg-no attacks (FL)\n",
    "RULE = 'fedavg'\n",
    "ATTACK_TYPE='label_flipping'\n",
    "MALICIOUS_BEHAVIOR_RATE = 1\n",
    "for atr in [0, 0.4]:\n",
    "    run_exp(dataset_name = DATASET_NAME, model_name = MODEL_NAME, dd_type = DD_TYPE, num_peers = NUM_PEERS, \n",
    "            frac_peers = FRAC_PEERS, seed = SEED, test_batch_size = TEST_BATCH_SIZE,\n",
    "                criterion = CRITERION, global_rounds = GLOBAL_ROUNDS, local_epochs = LOCAL_EPOCHS, local_bs = LOCAL_BS, \n",
    "                 local_lr = LOCAL_LR, local_momentum = LOCAL_MOMENTUM, labels_dict = LABELS_DICT, device = DEVICE,\n",
    "                attackers_ratio = atr, attack_type=ATTACK_TYPE, \n",
    "                 malicious_behavior_rate = MALICIOUS_BEHAVIOR_RATE, rule = RULE,\n",
    "                source_class = SOURCE_CLASS, target_class = TARGET_CLASS,\n",
    "               class_per_peer = CLASS_PER_PEER, samples_per_class = SAMPLES_PER_CLASS, \n",
    "               rate_unbalance = RATE_UNBALANCE, alpha = ALPHA, resume = False)"
   ],
   "outputs": [],
   "execution_count": null
  },
  {
   "metadata": {},
   "cell_type": "code",
   "source": [
    "RULE = 'lfighter'\n",
    "ATTACK_TYPE='label_flipping'\n",
    "MALICIOUS_BEHAVIOR_RATE = 1\n",
    "for atr in [0.4]:\n",
    "    run_exp(dataset_name = DATASET_NAME, model_name = MODEL_NAME, dd_type = DD_TYPE, num_peers = NUM_PEERS, \n",
    "            frac_peers = FRAC_PEERS, seed = SEED, test_batch_size = TEST_BATCH_SIZE,\n",
    "                criterion = CRITERION, global_rounds = GLOBAL_ROUNDS, local_epochs = LOCAL_EPOCHS, local_bs = LOCAL_BS, \n",
    "                 local_lr = LOCAL_LR, local_momentum = LOCAL_MOMENTUM, labels_dict = LABELS_DICT, device = DEVICE,\n",
    "                attackers_ratio = atr, attack_type=ATTACK_TYPE, \n",
    "                 malicious_behavior_rate = MALICIOUS_BEHAVIOR_RATE, rule = RULE,\n",
    "                source_class = SOURCE_CLASS, target_class = TARGET_CLASS,\n",
    "               class_per_peer = CLASS_PER_PEER, samples_per_class = SAMPLES_PER_CLASS, \n",
    "               rate_unbalance = RATE_UNBALANCE, alpha = ALPHA, resume = False)"
   ],
   "outputs": [],
   "execution_count": null
  },
  {
   "metadata": {},
   "cell_type": "code",
   "source": [
    "RULE = 'median'\n",
    "ATTACK_TYPE='label_flipping'\n",
    "MALICIOUS_BEHAVIOR_RATE = 1\n",
    "for atr in [0.4]:\n",
    "    run_exp(dataset_name = DATASET_NAME, model_name = MODEL_NAME, dd_type = DD_TYPE, num_peers = NUM_PEERS, \n",
    "            frac_peers = FRAC_PEERS, seed = SEED, test_batch_size = TEST_BATCH_SIZE,\n",
    "                criterion = CRITERION, global_rounds = GLOBAL_ROUNDS, local_epochs = LOCAL_EPOCHS, local_bs = LOCAL_BS, \n",
    "                 local_lr = LOCAL_LR, local_momentum = LOCAL_MOMENTUM, labels_dict = LABELS_DICT, device = DEVICE,\n",
    "                attackers_ratio = atr, attack_type=ATTACK_TYPE, \n",
    "                 malicious_behavior_rate = MALICIOUS_BEHAVIOR_RATE, rule = RULE,\n",
    "                source_class = SOURCE_CLASS, target_class = TARGET_CLASS,\n",
    "               class_per_peer = CLASS_PER_PEER, samples_per_class = SAMPLES_PER_CLASS, \n",
    "               rate_unbalance = RATE_UNBALANCE, alpha = ALPHA, resume = False)"
   ],
   "outputs": [
    {
     "ename": "KeyboardInterrupt",
     "evalue": "",
     "output_type": "error",
     "traceback": [
      "\u001B[31m---------------------------------------------------------------------------\u001B[39m",
      "\u001B[31mKeyboardInterrupt\u001B[39m                         Traceback (most recent call last)",
      "\u001B[36mCell\u001B[39m\u001B[36m \u001B[39m\u001B[32mIn[6]\u001B[39m\u001B[32m, line 5\u001B[39m\n\u001B[32m      3\u001B[39m MALICIOUS_BEHAVIOR_RATE = \u001B[32m1\u001B[39m\n\u001B[32m      4\u001B[39m \u001B[38;5;28;01mfor\u001B[39;00m atr \u001B[38;5;129;01min\u001B[39;00m [\u001B[32m0.4\u001B[39m]:\n\u001B[32m----> \u001B[39m\u001B[32m5\u001B[39m     \u001B[43mrun_exp\u001B[49m\u001B[43m(\u001B[49m\u001B[43mdataset_name\u001B[49m\u001B[43m \u001B[49m\u001B[43m=\u001B[49m\u001B[43m \u001B[49m\u001B[43mDATASET_NAME\u001B[49m\u001B[43m,\u001B[49m\u001B[43m \u001B[49m\u001B[43mmodel_name\u001B[49m\u001B[43m \u001B[49m\u001B[43m=\u001B[49m\u001B[43m \u001B[49m\u001B[43mMODEL_NAME\u001B[49m\u001B[43m,\u001B[49m\u001B[43m \u001B[49m\u001B[43mdd_type\u001B[49m\u001B[43m \u001B[49m\u001B[43m=\u001B[49m\u001B[43m \u001B[49m\u001B[43mDD_TYPE\u001B[49m\u001B[43m,\u001B[49m\u001B[43m \u001B[49m\u001B[43mnum_peers\u001B[49m\u001B[43m \u001B[49m\u001B[43m=\u001B[49m\u001B[43m \u001B[49m\u001B[43mNUM_PEERS\u001B[49m\u001B[43m,\u001B[49m\u001B[43m \u001B[49m\n\u001B[32m      6\u001B[39m \u001B[43m            \u001B[49m\u001B[43mfrac_peers\u001B[49m\u001B[43m \u001B[49m\u001B[43m=\u001B[49m\u001B[43m \u001B[49m\u001B[43mFRAC_PEERS\u001B[49m\u001B[43m,\u001B[49m\u001B[43m \u001B[49m\u001B[43mseed\u001B[49m\u001B[43m \u001B[49m\u001B[43m=\u001B[49m\u001B[43m \u001B[49m\u001B[43mSEED\u001B[49m\u001B[43m,\u001B[49m\u001B[43m \u001B[49m\u001B[43mtest_batch_size\u001B[49m\u001B[43m \u001B[49m\u001B[43m=\u001B[49m\u001B[43m \u001B[49m\u001B[43mTEST_BATCH_SIZE\u001B[49m\u001B[43m,\u001B[49m\n\u001B[32m      7\u001B[39m \u001B[43m                \u001B[49m\u001B[43mcriterion\u001B[49m\u001B[43m \u001B[49m\u001B[43m=\u001B[49m\u001B[43m \u001B[49m\u001B[43mCRITERION\u001B[49m\u001B[43m,\u001B[49m\u001B[43m \u001B[49m\u001B[43mglobal_rounds\u001B[49m\u001B[43m \u001B[49m\u001B[43m=\u001B[49m\u001B[43m \u001B[49m\u001B[43mGLOBAL_ROUNDS\u001B[49m\u001B[43m,\u001B[49m\u001B[43m \u001B[49m\u001B[43mlocal_epochs\u001B[49m\u001B[43m \u001B[49m\u001B[43m=\u001B[49m\u001B[43m \u001B[49m\u001B[43mLOCAL_EPOCHS\u001B[49m\u001B[43m,\u001B[49m\u001B[43m \u001B[49m\u001B[43mlocal_bs\u001B[49m\u001B[43m \u001B[49m\u001B[43m=\u001B[49m\u001B[43m \u001B[49m\u001B[43mLOCAL_BS\u001B[49m\u001B[43m,\u001B[49m\u001B[43m \u001B[49m\n\u001B[32m      8\u001B[39m \u001B[43m                 \u001B[49m\u001B[43mlocal_lr\u001B[49m\u001B[43m \u001B[49m\u001B[43m=\u001B[49m\u001B[43m \u001B[49m\u001B[43mLOCAL_LR\u001B[49m\u001B[43m,\u001B[49m\u001B[43m \u001B[49m\u001B[43mlocal_momentum\u001B[49m\u001B[43m \u001B[49m\u001B[43m=\u001B[49m\u001B[43m \u001B[49m\u001B[43mLOCAL_MOMENTUM\u001B[49m\u001B[43m,\u001B[49m\u001B[43m \u001B[49m\u001B[43mlabels_dict\u001B[49m\u001B[43m \u001B[49m\u001B[43m=\u001B[49m\u001B[43m \u001B[49m\u001B[43mLABELS_DICT\u001B[49m\u001B[43m,\u001B[49m\u001B[43m \u001B[49m\u001B[43mdevice\u001B[49m\u001B[43m \u001B[49m\u001B[43m=\u001B[49m\u001B[43m \u001B[49m\u001B[43mDEVICE\u001B[49m\u001B[43m,\u001B[49m\n\u001B[32m      9\u001B[39m \u001B[43m                \u001B[49m\u001B[43mattackers_ratio\u001B[49m\u001B[43m \u001B[49m\u001B[43m=\u001B[49m\u001B[43m \u001B[49m\u001B[43matr\u001B[49m\u001B[43m,\u001B[49m\u001B[43m \u001B[49m\u001B[43mattack_type\u001B[49m\u001B[43m=\u001B[49m\u001B[43mATTACK_TYPE\u001B[49m\u001B[43m,\u001B[49m\u001B[43m \u001B[49m\n\u001B[32m     10\u001B[39m \u001B[43m                 \u001B[49m\u001B[43mmalicious_behavior_rate\u001B[49m\u001B[43m \u001B[49m\u001B[43m=\u001B[49m\u001B[43m \u001B[49m\u001B[43mMALICIOUS_BEHAVIOR_RATE\u001B[49m\u001B[43m,\u001B[49m\u001B[43m \u001B[49m\u001B[43mrule\u001B[49m\u001B[43m \u001B[49m\u001B[43m=\u001B[49m\u001B[43m \u001B[49m\u001B[43mRULE\u001B[49m\u001B[43m,\u001B[49m\n\u001B[32m     11\u001B[39m \u001B[43m                \u001B[49m\u001B[43msource_class\u001B[49m\u001B[43m \u001B[49m\u001B[43m=\u001B[49m\u001B[43m \u001B[49m\u001B[43mSOURCE_CLASS\u001B[49m\u001B[43m,\u001B[49m\u001B[43m \u001B[49m\u001B[43mtarget_class\u001B[49m\u001B[43m \u001B[49m\u001B[43m=\u001B[49m\u001B[43m \u001B[49m\u001B[43mTARGET_CLASS\u001B[49m\u001B[43m,\u001B[49m\n\u001B[32m     12\u001B[39m \u001B[43m               \u001B[49m\u001B[43mclass_per_peer\u001B[49m\u001B[43m \u001B[49m\u001B[43m=\u001B[49m\u001B[43m \u001B[49m\u001B[43mCLASS_PER_PEER\u001B[49m\u001B[43m,\u001B[49m\u001B[43m \u001B[49m\u001B[43msamples_per_class\u001B[49m\u001B[43m \u001B[49m\u001B[43m=\u001B[49m\u001B[43m \u001B[49m\u001B[43mSAMPLES_PER_CLASS\u001B[49m\u001B[43m,\u001B[49m\u001B[43m \u001B[49m\n\u001B[32m     13\u001B[39m \u001B[43m               \u001B[49m\u001B[43mrate_unbalance\u001B[49m\u001B[43m \u001B[49m\u001B[43m=\u001B[49m\u001B[43m \u001B[49m\u001B[43mRATE_UNBALANCE\u001B[49m\u001B[43m,\u001B[49m\u001B[43m \u001B[49m\u001B[43malpha\u001B[49m\u001B[43m \u001B[49m\u001B[43m=\u001B[49m\u001B[43m \u001B[49m\u001B[43mALPHA\u001B[49m\u001B[43m,\u001B[49m\u001B[43m \u001B[49m\u001B[43mresume\u001B[49m\u001B[43m \u001B[49m\u001B[43m=\u001B[49m\u001B[43m \u001B[49m\u001B[38;5;28;43;01mFalse\u001B[39;49;00m\u001B[43m)\u001B[49m\n",
      "\u001B[36mFile \u001B[39m\u001B[32mD:\\PythonProject\\LFighter\\experiment_federated.py:34\u001B[39m, in \u001B[36mrun_exp\u001B[39m\u001B[34m(dataset_name, model_name, dd_type, num_peers, frac_peers, seed, test_batch_size, criterion, global_rounds, local_epochs, local_bs, local_lr, local_momentum, labels_dict, device, attackers_ratio, attack_type, malicious_behavior_rate, rule, class_per_peer, samples_per_class, rate_unbalance, alpha, source_class, target_class, resume)\u001B[39m\n\u001B[32m     24\u001B[39m \u001B[38;5;66;03m# flEnv.simulate(attack_type = attack_type, malicious_behavior_rate = malicious_behavior_rate,\u001B[39;00m\n\u001B[32m     25\u001B[39m \u001B[38;5;66;03m#                 from_class = from_class, to_class = to_class,\u001B[39;00m\n\u001B[32m     26\u001B[39m \u001B[38;5;66;03m#                  rule=rule)\u001B[39;00m\n\u001B[32m     27\u001B[39m flEnv = FL(dataset_name=dataset_name, model_name=model_name, dd_type=dd_type, num_peers=num_peers,\n\u001B[32m     28\u001B[39m            frac_peers=frac_peers, seed=seed, test_batch_size=test_batch_size, criterion=criterion, global_rounds=global_rounds,\n\u001B[32m     29\u001B[39m            local_epochs=local_epochs, local_bs=local_bs, local_lr=local_lr, local_momentum=local_momentum,\n\u001B[32m   (...)\u001B[39m\u001B[32m     32\u001B[39m            rate_unbalance=rate_unbalance, alpha=alpha, source_class=source_class,\n\u001B[32m     33\u001B[39m            USE_AMP=USE_AMP)  \u001B[38;5;66;03m# ✅ 添加这行\u001B[39;00m\n\u001B[32m---> \u001B[39m\u001B[32m34\u001B[39m \u001B[43mflEnv\u001B[49m\u001B[43m.\u001B[49m\u001B[43mrun_experiment\u001B[49m\u001B[43m(\u001B[49m\n\u001B[32m     35\u001B[39m \u001B[43m    \u001B[49m\u001B[43mattack_type\u001B[49m\u001B[43m=\u001B[49m\u001B[43mattack_type\u001B[49m\u001B[43m,\u001B[49m\n\u001B[32m     36\u001B[39m \u001B[43m    \u001B[49m\u001B[43mmalicious_behavior_rate\u001B[49m\u001B[43m=\u001B[49m\u001B[43mmalicious_behavior_rate\u001B[49m\u001B[43m,\u001B[49m\n\u001B[32m     37\u001B[39m \u001B[43m    \u001B[49m\u001B[43msource_class\u001B[49m\u001B[43m=\u001B[49m\u001B[43msource_class\u001B[49m\u001B[43m,\u001B[49m\n\u001B[32m     38\u001B[39m \u001B[43m    \u001B[49m\u001B[43mtarget_class\u001B[49m\u001B[43m=\u001B[49m\u001B[43mtarget_class\u001B[49m\u001B[43m,\u001B[49m\n\u001B[32m     39\u001B[39m \u001B[43m    \u001B[49m\u001B[43mrule\u001B[49m\u001B[43m=\u001B[49m\u001B[43mrule\u001B[49m\u001B[43m,\u001B[49m\n\u001B[32m     40\u001B[39m \u001B[43m    \u001B[49m\u001B[43mresume\u001B[49m\u001B[43m=\u001B[49m\u001B[43mresume\u001B[49m\n\u001B[32m     41\u001B[39m \u001B[43m\u001B[49m\u001B[43m)\u001B[49m\n\u001B[32m     43\u001B[39m \u001B[38;5;28mprint\u001B[39m(\u001B[33m'\u001B[39m\u001B[38;5;130;01m\\n\u001B[39;00m\u001B[33m--> End of Experiment.\u001B[39m\u001B[33m'\u001B[39m)\n",
      "\u001B[36mFile \u001B[39m\u001B[32mD:\\PythonProject\\LFighter\\environment_federated.py:413\u001B[39m, in \u001B[36mFL.run_experiment\u001B[39m\u001B[34m(self, attack_type, malicious_behavior_rate, source_class, target_class, rule, resume)\u001B[39m\n\u001B[32m    409\u001B[39m peers_types.append(mapping[\u001B[38;5;28mself\u001B[39m.peers[peer].peer_type])\n\u001B[32m    410\u001B[39m \u001B[38;5;66;03m# print(i)\u001B[39;00m\n\u001B[32m    411\u001B[39m \u001B[38;5;66;03m# print('\\n{}: {} Starts training in global round:{} |'.format(i, (self.peers_pseudonyms[peer]), (epoch + 1)))\u001B[39;00m\n\u001B[32m    412\u001B[39m \u001B[38;5;66;03m# print(f\"[DEBUG] Starting training for peer {peer}...\")\u001B[39;00m\n\u001B[32m--> \u001B[39m\u001B[32m413\u001B[39m peer_update, peer_grad, peer_local_model, peer_loss, attacked, t,views = \u001B[38;5;28;43mself\u001B[39;49m\u001B[43m.\u001B[49m\u001B[43mpeers\u001B[49m\u001B[43m[\u001B[49m\u001B[43mpeer\u001B[49m\u001B[43m]\u001B[49m\u001B[43m.\u001B[49m\u001B[43mparticipant_update\u001B[49m\u001B[43m(\u001B[49m\u001B[43mepoch\u001B[49m\u001B[43m,\u001B[49m\n\u001B[32m    414\u001B[39m \u001B[43m\u001B[49m\u001B[43mcopy\u001B[49m\u001B[43m.\u001B[49m\u001B[43mdeepcopy\u001B[49m\u001B[43m(\u001B[49m\u001B[43msimulation_model\u001B[49m\u001B[43m)\u001B[49m\u001B[43m,\u001B[49m\n\u001B[32m    415\u001B[39m \u001B[43m\u001B[49m\u001B[43mattack_type\u001B[49m\u001B[43m \u001B[49m\u001B[43m=\u001B[49m\u001B[43m \u001B[49m\u001B[43mattack_type\u001B[49m\u001B[43m,\u001B[49m\u001B[43m \u001B[49m\u001B[43mmalicious_behavior_rate\u001B[49m\u001B[43m \u001B[49m\u001B[43m=\u001B[49m\u001B[43m \u001B[49m\u001B[43mmalicious_behavior_rate\u001B[49m\u001B[43m,\u001B[49m\u001B[43m \u001B[49m\n\u001B[32m    416\u001B[39m \u001B[43m\u001B[49m\u001B[43msource_class\u001B[49m\u001B[43m \u001B[49m\u001B[43m=\u001B[49m\u001B[43m \u001B[49m\u001B[43msource_class\u001B[49m\u001B[43m,\u001B[49m\u001B[43m \u001B[49m\u001B[43mtarget_class\u001B[49m\u001B[43m \u001B[49m\u001B[43m=\u001B[49m\u001B[43m \u001B[49m\u001B[43mtarget_class\u001B[49m\u001B[43m,\u001B[49m\u001B[43m \u001B[49m\u001B[43mdataset_name\u001B[49m\u001B[43m \u001B[49m\u001B[43m=\u001B[49m\u001B[43m \u001B[49m\u001B[38;5;28;43mself\u001B[39;49m\u001B[43m.\u001B[49m\u001B[43mdataset_name\u001B[49m\u001B[43m)\u001B[49m\n\u001B[32m    417\u001B[39m \u001B[38;5;66;03m# print(f\"[DEBUG] Finished training for peer {peer}\")\u001B[39;00m\n\u001B[32m    418\u001B[39m peer_feature_views.append(views)\n",
      "\u001B[36mFile \u001B[39m\u001B[32mD:\\PythonProject\\LFighter\\environment_federated.py:108\u001B[39m, in \u001B[36mPeer.participant_update\u001B[39m\u001B[34m(self, global_epoch, model, attack_type, malicious_behavior_rate, source_class, target_class, dataset_name)\u001B[39m\n\u001B[32m    106\u001B[39m t = \u001B[32m0\u001B[39m\n\u001B[32m    107\u001B[39m \u001B[38;5;28;01mfor\u001B[39;00m epoch \u001B[38;5;129;01min\u001B[39;00m \u001B[38;5;28mrange\u001B[39m(epochs):\n\u001B[32m--> \u001B[39m\u001B[32m108\u001B[39m \u001B[43m    \u001B[49m\u001B[38;5;28;43;01mfor\u001B[39;49;00m\u001B[43m \u001B[49m\u001B[43mbatch_idx\u001B[49m\u001B[43m,\u001B[49m\u001B[43m \u001B[49m\u001B[43m(\u001B[49m\u001B[43mdata\u001B[49m\u001B[43m,\u001B[49m\u001B[43m \u001B[49m\u001B[43mtarget\u001B[49m\u001B[43m)\u001B[49m\u001B[43m \u001B[49m\u001B[38;5;129;43;01min\u001B[39;49;00m\u001B[43m \u001B[49m\u001B[38;5;28;43menumerate\u001B[39;49m\u001B[43m(\u001B[49m\u001B[43mtrain_loader\u001B[49m\u001B[43m)\u001B[49m\u001B[43m:\u001B[49m\n\u001B[32m    109\u001B[39m \u001B[43m        \u001B[49m\u001B[43mdata\u001B[49m\u001B[43m,\u001B[49m\u001B[43m \u001B[49m\u001B[43mtarget\u001B[49m\u001B[43m \u001B[49m\u001B[43m=\u001B[49m\u001B[43m \u001B[49m\u001B[43mdata\u001B[49m\u001B[43m.\u001B[49m\u001B[43mto\u001B[49m\u001B[43m(\u001B[49m\u001B[38;5;28;43mself\u001B[39;49m\u001B[43m.\u001B[49m\u001B[43mdevice\u001B[49m\u001B[43m)\u001B[49m\u001B[43m,\u001B[49m\u001B[43m \u001B[49m\u001B[43mtarget\u001B[49m\u001B[43m.\u001B[49m\u001B[43mto\u001B[49m\u001B[43m(\u001B[49m\u001B[38;5;28;43mself\u001B[39;49m\u001B[43m.\u001B[49m\u001B[43mdevice\u001B[49m\u001B[43m)\u001B[49m\n\u001B[32m    110\u001B[39m \u001B[43m        \u001B[49m\u001B[43mdata\u001B[49m\u001B[43m.\u001B[49m\u001B[43mrequires_grad\u001B[49m\u001B[43m \u001B[49m\u001B[43m=\u001B[49m\u001B[43m \u001B[49m\u001B[38;5;28;43;01mTrue\u001B[39;49;00m\n",
      "\u001B[36mFile \u001B[39m\u001B[32mD:\\PythonProject\\FL_LabelFlipping_Experiment\\.venv\\Lib\\site-packages\\torch\\utils\\data\\dataloader.py:701\u001B[39m, in \u001B[36m_BaseDataLoaderIter.__next__\u001B[39m\u001B[34m(self)\u001B[39m\n\u001B[32m    698\u001B[39m \u001B[38;5;28;01mif\u001B[39;00m \u001B[38;5;28mself\u001B[39m._sampler_iter \u001B[38;5;129;01mis\u001B[39;00m \u001B[38;5;28;01mNone\u001B[39;00m:\n\u001B[32m    699\u001B[39m     \u001B[38;5;66;03m# TODO(https://github.com/pytorch/pytorch/issues/76750)\u001B[39;00m\n\u001B[32m    700\u001B[39m     \u001B[38;5;28mself\u001B[39m._reset()  \u001B[38;5;66;03m# type: ignore[call-arg]\u001B[39;00m\n\u001B[32m--> \u001B[39m\u001B[32m701\u001B[39m data = \u001B[38;5;28;43mself\u001B[39;49m\u001B[43m.\u001B[49m\u001B[43m_next_data\u001B[49m\u001B[43m(\u001B[49m\u001B[43m)\u001B[49m\n\u001B[32m    702\u001B[39m \u001B[38;5;28mself\u001B[39m._num_yielded += \u001B[32m1\u001B[39m\n\u001B[32m    703\u001B[39m \u001B[38;5;28;01mif\u001B[39;00m (\n\u001B[32m    704\u001B[39m     \u001B[38;5;28mself\u001B[39m._dataset_kind == _DatasetKind.Iterable\n\u001B[32m    705\u001B[39m     \u001B[38;5;129;01mand\u001B[39;00m \u001B[38;5;28mself\u001B[39m._IterableDataset_len_called \u001B[38;5;129;01mis\u001B[39;00m \u001B[38;5;129;01mnot\u001B[39;00m \u001B[38;5;28;01mNone\u001B[39;00m\n\u001B[32m    706\u001B[39m     \u001B[38;5;129;01mand\u001B[39;00m \u001B[38;5;28mself\u001B[39m._num_yielded > \u001B[38;5;28mself\u001B[39m._IterableDataset_len_called\n\u001B[32m    707\u001B[39m ):\n",
      "\u001B[36mFile \u001B[39m\u001B[32mD:\\PythonProject\\FL_LabelFlipping_Experiment\\.venv\\Lib\\site-packages\\torch\\utils\\data\\dataloader.py:757\u001B[39m, in \u001B[36m_SingleProcessDataLoaderIter._next_data\u001B[39m\u001B[34m(self)\u001B[39m\n\u001B[32m    755\u001B[39m \u001B[38;5;28;01mdef\u001B[39;00m\u001B[38;5;250m \u001B[39m\u001B[34m_next_data\u001B[39m(\u001B[38;5;28mself\u001B[39m):\n\u001B[32m    756\u001B[39m     index = \u001B[38;5;28mself\u001B[39m._next_index()  \u001B[38;5;66;03m# may raise StopIteration\u001B[39;00m\n\u001B[32m--> \u001B[39m\u001B[32m757\u001B[39m     data = \u001B[38;5;28;43mself\u001B[39;49m\u001B[43m.\u001B[49m\u001B[43m_dataset_fetcher\u001B[49m\u001B[43m.\u001B[49m\u001B[43mfetch\u001B[49m\u001B[43m(\u001B[49m\u001B[43mindex\u001B[49m\u001B[43m)\u001B[49m  \u001B[38;5;66;03m# may raise StopIteration\u001B[39;00m\n\u001B[32m    758\u001B[39m     \u001B[38;5;28;01mif\u001B[39;00m \u001B[38;5;28mself\u001B[39m._pin_memory:\n\u001B[32m    759\u001B[39m         data = _utils.pin_memory.pin_memory(data, \u001B[38;5;28mself\u001B[39m._pin_memory_device)\n",
      "\u001B[36mFile \u001B[39m\u001B[32mD:\\PythonProject\\FL_LabelFlipping_Experiment\\.venv\\Lib\\site-packages\\torch\\utils\\data\\_utils\\fetch.py:52\u001B[39m, in \u001B[36m_MapDatasetFetcher.fetch\u001B[39m\u001B[34m(self, possibly_batched_index)\u001B[39m\n\u001B[32m     50\u001B[39m         data = \u001B[38;5;28mself\u001B[39m.dataset.__getitems__(possibly_batched_index)\n\u001B[32m     51\u001B[39m     \u001B[38;5;28;01melse\u001B[39;00m:\n\u001B[32m---> \u001B[39m\u001B[32m52\u001B[39m         data = [\u001B[38;5;28;43mself\u001B[39;49m\u001B[43m.\u001B[49m\u001B[43mdataset\u001B[49m\u001B[43m[\u001B[49m\u001B[43midx\u001B[49m\u001B[43m]\u001B[49m \u001B[38;5;28;01mfor\u001B[39;00m idx \u001B[38;5;129;01min\u001B[39;00m possibly_batched_index]\n\u001B[32m     53\u001B[39m \u001B[38;5;28;01melse\u001B[39;00m:\n\u001B[32m     54\u001B[39m     data = \u001B[38;5;28mself\u001B[39m.dataset[possibly_batched_index]\n",
      "\u001B[36mFile \u001B[39m\u001B[32mD:\\PythonProject\\LFighter\\datasets.py:19\u001B[39m, in \u001B[36mCustomDataset.__getitem__\u001B[39m\u001B[34m(self, index)\u001B[39m\n\u001B[32m     17\u001B[39m \u001B[38;5;66;03m# ✅ 修复1：将 y 转换为 1D long Tensor，保证形状一致\u001B[39;00m\n\u001B[32m     18\u001B[39m \u001B[38;5;28;01mif\u001B[39;00m \u001B[38;5;28misinstance\u001B[39m(y, np.ndarray):\n\u001B[32m---> \u001B[39m\u001B[32m19\u001B[39m     y = \u001B[43mtorch\u001B[49m\u001B[43m.\u001B[49m\u001B[43mfrom_numpy\u001B[49m\u001B[43m(\u001B[49m\u001B[43my\u001B[49m\u001B[43m)\u001B[49m\u001B[43m.\u001B[49m\u001B[43mlong\u001B[49m\u001B[43m(\u001B[49m\u001B[43m)\u001B[49m.view(-\u001B[32m1\u001B[39m)\n\u001B[32m     20\u001B[39m \u001B[38;5;28;01melif\u001B[39;00m \u001B[38;5;28misinstance\u001B[39m(y, torch.Tensor):\n\u001B[32m     21\u001B[39m     y = y.view(-\u001B[32m1\u001B[39m).long()\n",
      "\u001B[31mKeyboardInterrupt\u001B[39m: "
     ]
    }
   ],
   "execution_count": 6
  },
  {
   "metadata": {
    "ExecuteTime": {
     "end_time": "2025-05-19T04:38:31.928899Z",
     "start_time": "2025-05-19T04:38:31.928899Z"
    }
   },
   "cell_type": "code",
   "source": [
    "RULE = 'tmean'\n",
    "ATTACK_TYPE='label_flipping'\n",
    "MALICIOUS_BEHAVIOR_RATE = 1\n",
    "for atr in [0.4]:\n",
    "    run_exp(dataset_name = DATASET_NAME, model_name = MODEL_NAME, dd_type = DD_TYPE, num_peers = NUM_PEERS, \n",
    "            frac_peers = FRAC_PEERS, seed = SEED, test_batch_size = TEST_BATCH_SIZE,\n",
    "                criterion = CRITERION, global_rounds = GLOBAL_ROUNDS, local_epochs = LOCAL_EPOCHS, local_bs = LOCAL_BS, \n",
    "                 local_lr = LOCAL_LR, local_momentum = LOCAL_MOMENTUM, labels_dict = LABELS_DICT, device = DEVICE,\n",
    "                attackers_ratio = atr, attack_type=ATTACK_TYPE, \n",
    "                 malicious_behavior_rate = MALICIOUS_BEHAVIOR_RATE, rule = RULE,\n",
    "                source_class = SOURCE_CLASS, target_class = TARGET_CLASS,\n",
    "               class_per_peer = CLASS_PER_PEER, samples_per_class = SAMPLES_PER_CLASS, \n",
    "               rate_unbalance = RATE_UNBALANCE, alpha = ALPHA, resume = False)"
   ],
   "outputs": [],
   "execution_count": null
  },
  {
   "metadata": {
    "ExecuteTime": {
     "end_time": "2025-05-19T04:38:31.930855Z",
     "start_time": "2025-05-19T04:38:31.929878Z"
    }
   },
   "cell_type": "code",
   "source": [
    "RULE = 'mkrum'\n",
    "ATTACK_TYPE='label_flipping'\n",
    "MALICIOUS_BEHAVIOR_RATE = 1\n",
    "for atr in [0.4]:\n",
    "    run_exp(dataset_name = DATASET_NAME, model_name = MODEL_NAME, dd_type = DD_TYPE, num_peers = NUM_PEERS, \n",
    "            frac_peers = FRAC_PEERS, seed = SEED, test_batch_size = TEST_BATCH_SIZE,\n",
    "                criterion = CRITERION, global_rounds = GLOBAL_ROUNDS, local_epochs = LOCAL_EPOCHS, local_bs = LOCAL_BS, \n",
    "                 local_lr = LOCAL_LR, local_momentum = LOCAL_MOMENTUM, labels_dict = LABELS_DICT, device = DEVICE,\n",
    "                attackers_ratio = atr, attack_type=ATTACK_TYPE, \n",
    "                 malicious_behavior_rate = MALICIOUS_BEHAVIOR_RATE, rule = RULE,\n",
    "                source_class = SOURCE_CLASS, target_class = TARGET_CLASS,\n",
    "               class_per_peer = CLASS_PER_PEER, samples_per_class = SAMPLES_PER_CLASS, \n",
    "               rate_unbalance = RATE_UNBALANCE, alpha = ALPHA, resume = False)"
   ],
   "outputs": [],
   "execution_count": null
  },
  {
   "metadata": {
    "ExecuteTime": {
     "end_time": "2025-05-19T04:38:31.931847Z",
     "start_time": "2025-05-19T04:38:31.930855Z"
    }
   },
   "cell_type": "code",
   "source": [
    "RULE = 'foolsgold'\n",
    "ATTACK_TYPE='label_flipping'\n",
    "MALICIOUS_BEHAVIOR_RATE = 1\n",
    "for atr in [0.4]:\n",
    "    run_exp(dataset_name = DATASET_NAME, model_name = MODEL_NAME, dd_type = DD_TYPE, num_peers = NUM_PEERS, \n",
    "            frac_peers = FRAC_PEERS, seed = SEED, test_batch_size = TEST_BATCH_SIZE,\n",
    "                criterion = CRITERION, global_rounds = GLOBAL_ROUNDS, local_epochs = LOCAL_EPOCHS, local_bs = LOCAL_BS, \n",
    "                 local_lr = LOCAL_LR, local_momentum = LOCAL_MOMENTUM, labels_dict = LABELS_DICT, device = DEVICE,\n",
    "                attackers_ratio = atr, attack_type=ATTACK_TYPE, \n",
    "                 malicious_behavior_rate = MALICIOUS_BEHAVIOR_RATE, rule = RULE,\n",
    "                source_class = SOURCE_CLASS, target_class = TARGET_CLASS,\n",
    "               class_per_peer = CLASS_PER_PEER, samples_per_class = SAMPLES_PER_CLASS, \n",
    "               rate_unbalance = RATE_UNBALANCE, alpha = ALPHA, resume = False)"
   ],
   "outputs": [],
   "execution_count": null
  },
  {
   "metadata": {
    "ExecuteTime": {
     "end_time": "2025-05-19T04:38:31.933442Z",
     "start_time": "2025-05-19T04:38:31.931847Z"
    }
   },
   "cell_type": "code",
   "source": [
    "RULE = 'Tolpegin'\n",
    "ATTACK_TYPE='label_flipping'\n",
    "MALICIOUS_BEHAVIOR_RATE = 1\n",
    "for atr in [0.4]:\n",
    "    run_exp(dataset_name = DATASET_NAME, model_name = MODEL_NAME, dd_type = DD_TYPE, num_peers = NUM_PEERS, \n",
    "            frac_peers = FRAC_PEERS, seed = SEED, test_batch_size = TEST_BATCH_SIZE,\n",
    "                criterion = CRITERION, global_rounds = GLOBAL_ROUNDS, local_epochs = LOCAL_EPOCHS, local_bs = LOCAL_BS, \n",
    "                 local_lr = LOCAL_LR, local_momentum = LOCAL_MOMENTUM, labels_dict = LABELS_DICT, device = DEVICE,\n",
    "                attackers_ratio = atr, attack_type=ATTACK_TYPE, \n",
    "                 malicious_behavior_rate = MALICIOUS_BEHAVIOR_RATE, rule = RULE,\n",
    "                source_class = SOURCE_CLASS, target_class = TARGET_CLASS,\n",
    "               class_per_peer = CLASS_PER_PEER, samples_per_class = SAMPLES_PER_CLASS, \n",
    "               rate_unbalance = RATE_UNBALANCE, alpha = ALPHA, resume = False)"
   ],
   "outputs": [],
   "execution_count": null
  },
  {
   "metadata": {
    "ExecuteTime": {
     "end_time": "2025-05-19T04:38:31.934421Z",
     "start_time": "2025-05-19T04:38:31.934421Z"
    }
   },
   "cell_type": "code",
   "source": [
    "RULE = 'FLAME'\n",
    "ATTACK_TYPE='label_flipping'\n",
    "MALICIOUS_BEHAVIOR_RATE = 1\n",
    "for atr in [0.4]:\n",
    "    run_exp(dataset_name = DATASET_NAME, model_name = MODEL_NAME, dd_type = DD_TYPE, num_peers = NUM_PEERS, \n",
    "            frac_peers = FRAC_PEERS, seed = SEED, test_batch_size = TEST_BATCH_SIZE,\n",
    "                criterion = CRITERION, global_rounds = GLOBAL_ROUNDS, local_epochs = LOCAL_EPOCHS, local_bs = LOCAL_BS, \n",
    "                 local_lr = LOCAL_LR, local_momentum = LOCAL_MOMENTUM, labels_dict = LABELS_DICT, device = DEVICE,\n",
    "                attackers_ratio = atr, attack_type=ATTACK_TYPE, \n",
    "                 malicious_behavior_rate = MALICIOUS_BEHAVIOR_RATE, rule = RULE,\n",
    "                source_class = SOURCE_CLASS, target_class = TARGET_CLASS,\n",
    "               class_per_peer = CLASS_PER_PEER, samples_per_class = SAMPLES_PER_CLASS, \n",
    "               rate_unbalance = RATE_UNBALANCE, alpha = ALPHA, resume = False)"
   ],
   "outputs": [],
   "execution_count": null
  },
  {
   "cell_type": "code",
   "metadata": {
    "ExecuteTime": {
     "end_time": "2025-05-19T04:38:31.935389Z",
     "start_time": "2025-05-19T04:38:31.935389Z"
    }
   },
   "source": [],
   "outputs": [],
   "execution_count": null
  }
 ],
 "metadata": {
  "kernelspec": {
   "display_name": "Python 3 (ipykernel)",
   "language": "python",
   "name": "python3"
  },
  "language_info": {
   "codemirror_mode": {
    "name": "ipython",
    "version": 3
   },
   "file_extension": ".py",
   "mimetype": "text/x-python",
   "name": "python",
   "nbconvert_exporter": "python",
   "pygments_lexer": "ipython3",
   "version": "3.9.13"
  }
 },
 "nbformat": 4,
 "nbformat_minor": 2
}
